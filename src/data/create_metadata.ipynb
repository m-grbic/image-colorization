{
 "cells": [
  {
   "cell_type": "code",
   "execution_count": 4,
   "metadata": {},
   "outputs": [],
   "source": [
    "import os\n",
    "import pandas as pd"
   ]
  },
  {
   "cell_type": "markdown",
   "metadata": {},
   "source": [
    "## Utility functions for traversing image data"
   ]
  },
  {
   "cell_type": "code",
   "execution_count": 5,
   "metadata": {},
   "outputs": [
    {
     "name": "stdout",
     "output_type": "stream",
     "text": [
      "Empty DataFrame\n",
      "Columns: [image_name, image_path]\n",
      "Index: []\n"
     ]
    }
   ],
   "source": [
    "def get_image_paths(root_path):\n",
    "    image_paths = []\n",
    "    for dirpath, _, filenames in os.walk(root_path):\n",
    "        for filename in filenames:\n",
    "            image_paths.append(os.path.join(dirpath, filename))\n",
    "    return image_paths\n",
    "\n",
    "\n",
    "def create_image_dataframe(root_path):\n",
    "    image_paths = get_image_paths(root_path)\n",
    "    data = {\n",
    "        'image_name': [os.path.basename(path) for path in image_paths],\n",
    "        'image_path': [os.path.abspath(path) for path in image_paths]\n",
    "    }\n",
    "    df = pd.DataFrame(data)\n",
    "    return df"
   ]
  },
  {
   "cell_type": "markdown",
   "metadata": {},
   "source": [
    "## Index data and create metadatasets"
   ]
  },
  {
   "cell_type": "code",
   "execution_count": 14,
   "metadata": {},
   "outputs": [
    {
     "name": "stdout",
     "output_type": "stream",
     "text": [
      "Processing train data..\n",
      "../data/ILSVRC/Metadata/train.pkl\n",
      "Processing val data..\n",
      "../data/ILSVRC/Metadata/val.pkl\n",
      "Processing test data..\n",
      "../data/ILSVRC/Metadata/test.pkl\n"
     ]
    }
   ],
   "source": [
    "data_dir_path = \"../data/ILSVRC/Data/CLS-LOC/\"\n",
    "metadata_output_dir_path = \"../data/ILSVRC/Metadata\"\n",
    "\n",
    "\n",
    "for dataset in [\"train\", \"val\", \"test\"]:\n",
    "    print(f\"Processing {dataset} data..\")\n",
    "    dataset_root_path = os.path.join(data_dir_path, dataset)\n",
    "    metadata_output_path = os.path.join(metadata_output_dir_path, f\"{dataset}.pkl\")\n",
    "\n",
    "    metadata_df = create_image_dataframe(dataset_root_path)\n",
    "    print(metadata_output_path)\n",
    "    metadata_df.to_pickle(metadata_output_path)\n"
   ]
  },
  {
   "cell_type": "markdown",
   "metadata": {},
   "source": [
    "## Count number of images"
   ]
  },
  {
   "cell_type": "code",
   "execution_count": 13,
   "metadata": {},
   "outputs": [
    {
     "name": "stdout",
     "output_type": "stream",
     "text": [
      "Number of images in train is 1281167\n",
      "Number of images in val is 50000\n",
      "Number of images in test is 100000\n"
     ]
    }
   ],
   "source": [
    "for dataset in [\"train\", \"val\", \"test\"]:\n",
    "    metadata_path = os.path.join(metadata_output_dir_path, f\"{dataset}.pkl\")\n",
    "\n",
    "    metadata_df = pd.read_pickle(metadata_path)\n",
    "    print(f\"Number of images in {dataset} is {len(metadata_df)}\")"
   ]
  }
 ],
 "metadata": {
  "kernelspec": {
   "display_name": "Python 3",
   "language": "python",
   "name": "python3"
  },
  "language_info": {
   "codemirror_mode": {
    "name": "ipython",
    "version": 3
   },
   "file_extension": ".py",
   "mimetype": "text/x-python",
   "name": "python",
   "nbconvert_exporter": "python",
   "pygments_lexer": "ipython3",
   "version": "3.10.12"
  }
 },
 "nbformat": 4,
 "nbformat_minor": 2
}
