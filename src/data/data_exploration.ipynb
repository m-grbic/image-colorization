{
 "cells": [
  {
   "cell_type": "code",
   "execution_count": 1,
   "metadata": {},
   "outputs": [],
   "source": [
    "import pandas as pd\n",
    "import numpy as np\n",
    "import matplotlib.pyplot as plt\n",
    "from tqdm import tqdm\n",
    "import cv2\n",
    "import pickle\n",
    "from collections import defaultdict, Counter"
   ]
  },
  {
   "cell_type": "markdown",
   "metadata": {},
   "source": [
    "## Steps\n",
    "\n",
    "\n",
    "Train dataset loop\n",
    "1. Calculate possible ab pairs and their frequency in training dataset\n",
    "2. Save output space\n",
    "   \n",
    "All dataset loop\n",
    "2. Go through dataset and soft-encode ab values of each pixel\n",
    "   1. For each pixel find 5 nearest neihboirs in output space and weight them proportionally to their distance from the ground truth using\n",
    "a Gaussian kernel with σ = 5.\n"
   ]
  },
  {
   "cell_type": "code",
   "execution_count": 2,
   "metadata": {},
   "outputs": [],
   "source": [
    "def get_quantized_ab_pairs(image_lab: np.ndarray, grid: int = 10):\n",
    "    ab_mat = image_lab[:, :, 1:].reshape(-1, 2)\n",
    "    ab_mat_biased = ab_mat.astype(int) - 128\n",
    "    ab_mat_quant = ab_mat_biased // grid * grid\n",
    "    return [tuple(pair) for pair in ab_mat_quant.tolist()]\n"
   ]
  },
  {
   "cell_type": "code",
   "execution_count": 3,
   "metadata": {},
   "outputs": [
    {
     "name": "stderr",
     "output_type": "stream",
     "text": [
      "  0%|          | 3457/1281167 [05:21<27:45:25, 12.79it/s] "
     ]
    }
   ],
   "source": [
    "train_df = pd.read_pickle('../../data/ILSVRC/Metadata/train.pkl')\n",
    "N = len(train_df)\n",
    "\n",
    "train_df = train_df.sample(N).reset_index(drop=True)\n",
    "ab_pairs_counter = defaultdict(int)\n",
    "\n",
    "for i in tqdm(range(len(train_df))):\n",
    "    img_path = train_df.iloc[i]['image_path']\n",
    "    image = cv2.imread(img_path)\n",
    "\n",
    "    image_rgb = cv2.cvtColor(image, cv2.COLOR_BGR2RGB)\n",
    "    image_lab = cv2.cvtColor(image_rgb, cv2.COLOR_RGB2LAB)\n",
    "\n",
    "    ab_pairs_ = get_quantized_ab_pairs(image_lab)\n",
    "\n",
    "    ab_pairs_counter_ = dict(Counter(ab_pairs_))\n",
    "    for pair, count in ab_pairs_counter_.items():\n",
    "        ab_pairs_counter[pair] += count\n",
    "\n",
    "\n",
    "ab_pairs_counter = dict(ab_pairs_counter)\n",
    "\n",
    "ab_pairs_set = list(ab_pairs_counter.keys())\n",
    "a_values = [a for a, _ in ab_pairs_set]\n",
    "b_values = [b for _, b in ab_pairs_set]\n",
    "print(f\"Number of unique ab pairs is: {len(ab_pairs_set)}\")\n",
    "\n",
    "# Create a scatter plot\n",
    "plt.figure(figsize=(8, 6))\n",
    "plt.scatter(b_values, a_values, alpha=0.6)\n",
    "plt.title('Distribution of ab value pairs')\n",
    "plt.xlabel('Component b')\n",
    "plt.ylabel('Component a')\n",
    "plt.grid(True)\n",
    "plt.xlim((-110, 110))\n",
    "plt.ylim((110, -110))\n",
    "plt.show()\n",
    "\n",
    "with open('../../data/ILSVRC/Metadata/ab_pair_counts.pkl', 'wb') as f:\n",
    "    pickle.dump(ab_pairs_counter, f)"
   ]
  },
  {
   "cell_type": "code",
   "execution_count": 12,
   "metadata": {},
   "outputs": [
    {
     "name": "stdout",
     "output_type": "stream",
     "text": [
      "{(0, -10): 3088704, (0, 0): 8166602, (-10, 0): 2152956, (0, 10): 1596097, (10, 0): 500851, (10, -10): 160848, (10, -20): 57274, (10, -30): 40453, (0, -20): 413522, (-10, 10): 1022352, (-20, 10): 185682, (-10, -10): 1381942, (10, 10): 556125, (0, 20): 1204460, (-10, -20): 376321, (0, -30): 207128, (20, 10): 158539, (10, 20): 484357, (20, 0): 48022, (20, 20): 169951, (-10, 20): 448246, (-10, 30): 88769, (-20, 30): 106548, (-20, 20): 183218, (0, 30): 543646, (10, 30): 201573, (-20, 40): 23190, (20, -10): 15176, (20, 30): 99389, (30, 10): 33821, (30, 20): 47757, (-20, -10): 127977, (-10, 40): 22215, (-20, 0): 134483, (0, 40): 59206, (0, -60): 364, (0, -50): 3666, (-10, -50): 4546, (-20, -40): 71420, (-10, -40): 114508, (-20, -50): 740, (-10, -30): 161355, (-20, -30): 34225, (0, -40): 40538, (-20, -20): 107041, (20, -20): 9176, (10, -40): 25927, (20, -50): 11087, (-30, -20): 20688, (20, -40): 24190, (20, -30): 12175, (40, 20): 30158, (40, 10): 13035, (-30, 30): 60975, (-40, 20): 9958, (-30, 20): 60900, (-40, 30): 28504, (-50, 30): 1629, (30, 0): 11147, (-30, 10): 31662, (-30, 0): 10747, (-40, 10): 2026, (-60, 30): 82, (-50, 20): 1217, (-50, 40): 5359, (-60, 40): 192, (-30, -10): 44575, (30, -70): 546, (50, -90): 349, (10, -60): 1432, (50, -80): 1632, (20, -70): 589, (-50, 0): 170, (30, -90): 1473, (-40, -10): 11731, (-10, 50): 11725, (-20, 50): 17357, (-30, -30): 3131, (-60, 20): 29, (-20, 60): 6746, (-10, 60): 20665, (0, 50): 41740, (0, 60): 25658, (-60, 50): 333, (10, 40): 97191, (20, 40): 55188, (40, 0): 9348, (30, -60): 4973, (40, -70): 2155, (-50, 10): 605, (10, 50): 43637, (40, -60): 2591, (30, 30): 41890, (30, -50): 12206, (-40, 0): 1581, (-20, 70): 3805, (-30, 50): 17066, (20, -60): 3004, (40, -80): 218, (30, -80): 663, (10, -50): 6563, (60, -90): 761, (50, -100): 259, (40, -90): 1809, (60, -100): 170, (10, -70): 45, (-40, 40): 33253, (30, 40): 32314, (50, -70): 768, (-30, 40): 45479, (50, 10): 7093, (60, -110): 1, (20, -80): 73, (50, 20): 13981, (-10, 70): 7611, (-40, -20): 681, (30, -20): 4880, (30, -10): 6247, (40, -10): 8160, (30, -40): 6411, (30, -30): 2309, (20, 50): 40872, (-20, 80): 6406, (0, 70): 3246, (40, -20): 5638, (40, -30): 3083, (40, -40): 591, (50, -20): 5584, (40, -50): 623, (10, 60): 15869, (-30, 60): 6333, (20, 60): 8664, (30, 50): 20323, (40, 40): 15702, (40, 60): 4820, (40, 50): 59082, (30, 60): 3940, (40, 30): 37013, (50, 50): 13030, (50, 60): 5663, (60, 40): 50073, (50, 40): 54280, (60, 50): 89559, (50, 30): 54710, (70, 50): 4691, (60, 30): 8836, (60, 60): 4453, (60, -50): 104, (60, -20): 2973, (60, -30): 1466, (60, 20): 4472, (70, -70): 6, (70, 60): 2727, (50, -50): 194, (30, 70): 531, (60, -10): 5467, (70, 30): 2785, (-30, 70): 2022, (70, 40): 6369, (60, 70): 3, (50, -60): 171, (60, 10): 3803, (10, 70): 2665, (20, 70): 646, (10, 80): 15, (-70, 50): 13, (-50, -10): 583, (-60, -10): 8, (-60, 0): 74, (-60, 10): 30, (-70, 60): 25, (-80, 60): 5, (-80, 70): 3, (60, -80): 83, (-40, 50): 13360, (-50, 50): 6063, (50, 0): 10574, (70, 20): 1410, (70, 10): 829, (-10, 80): 5764, (50, -10): 9657, (60, 0): 5592, (-30, 90): 489, (-30, 80): 1137, (60, -70): 43, (50, -40): 679, (-50, 60): 6582, (-60, 60): 609, (-40, 60): 14531, (-50, 70): 3449, (-10, -60): 62, (-30, -40): 1719, (-70, 40): 2, (40, 70): 449, (50, 70): 41, (0, 80): 807, (50, -30): 3366, (70, 0): 831, (-60, 70): 1141, (70, -90): 2, (60, -60): 59, (70, -80): 3, (40, -100): 3, (60, -40): 354, (70, -10): 869, (70, -20): 928, (70, -30): 602, (70, -40): 127, (80, -40): 16, (80, -30): 45, (80, -20): 74, (-20, 90): 1183, (-10, 90): 7, (80, 10): 40, (80, 50): 54, (80, 20): 36, (80, 30): 47, (80, 40): 59, (80, 0): 42, (80, 60): 19, (80, -10): 50, (70, -50): 37, (80, -50): 5, (70, -60): 4, (80, -60): 1, (-40, 70): 2638, (-40, -30): 13, (-60, 80): 571, (-50, 80): 1090, (-40, 80): 612, (-40, 90): 3, (-70, 80): 4, (-50, 90): 1, (-70, 70): 5, (-50, -20): 1, (70, -100): 68, (70, -110): 5}\n"
     ]
    }
   ],
   "source": [
    "with open('../../data/ILSVRC/Metadata/ab_pair_counts.pkl', 'rb') as f:\n",
    "    ab_pairs_counter = pickle.load(f)\n",
    "\n",
    "print(ab_pairs_counter)"
   ]
  }
 ],
 "metadata": {
  "kernelspec": {
   "display_name": "Python 3",
   "language": "python",
   "name": "python3"
  },
  "language_info": {
   "codemirror_mode": {
    "name": "ipython",
    "version": 3
   },
   "file_extension": ".py",
   "mimetype": "text/x-python",
   "name": "python",
   "nbconvert_exporter": "python",
   "pygments_lexer": "ipython3",
   "version": "3.10.12"
  }
 },
 "nbformat": 4,
 "nbformat_minor": 2
}
